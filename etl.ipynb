{
 "cells": [
  {
   "cell_type": "code",
   "execution_count": 209,
   "metadata": {},
   "outputs": [],
   "source": [
    "import pandas as pd\n",
    "from datetime import datetime, timedelta"
   ]
  },
  {
   "cell_type": "code",
   "execution_count": 210,
   "metadata": {},
   "outputs": [],
   "source": [
    "df_load = [] #Temp list for combining DFs\n",
    "df_wind = []\n",
    "df_solar = []\n",
    "\n",
    "YEARS = ['2022', '2023', '2024']\n",
    "\n",
    "for year in YEARS:\n",
    "    df_load.append(pd.read_excel(\"Native_Load_{}.xlsx\".format(year), index_col=0))\n",
    "    df_wind.append(pd.read_excel(\"Solar_Wind_{}.xlsx\".format(year), sheet_name=\"Wind Data\", index_col= \"Time (Hour-Ending)\"))\n",
    "    df_solar.append(pd.read_excel(\"Solar_Wind_{}.xlsx\".format(year), sheet_name=\"Solar Data\", index_col= \"Time (Hour-Ending)\"))\n",
    "    \n",
    "#df init\n",
    "df_load = pd.concat(df_load)\n",
    "df_wind = pd.concat(df_wind)\n",
    "df_solar = pd.concat(df_solar)\n"
   ]
  },
  {
   "cell_type": "code",
   "execution_count": 211,
   "metadata": {},
   "outputs": [
    {
     "name": "stdout",
     "output_type": "stream",
     "text": [
      "                             COAST         EAST        FWEST        NORTH  \\\n",
      "Hour Ending                                                                 \n",
      "11/06/2022 02:00 DST   9331.958672  1104.183137  5094.569030   752.622044   \n",
      "11/05/2023 02:00 DST  10108.434971  1127.380115  5671.605921   904.897362   \n",
      "11/03/2024 02:00 DST  12392.327195  1366.024767  6506.165503  1280.902827   \n",
      "\n",
      "                             NCENT        SOUTH        SCENT         WEST  \\\n",
      "Hour Ending                                                                 \n",
      "11/06/2022 02:00 DST   8844.275206  2888.351883  5113.815243   938.180082   \n",
      "11/05/2023 02:00 DST   8789.382953  2784.580564  5598.843114   952.353719   \n",
      "11/03/2024 02:00 DST  11266.437516  3746.732143  7021.316310  1046.335622   \n",
      "\n",
      "                             ERCOT  \n",
      "Hour Ending                         \n",
      "11/06/2022 02:00 DST  34067.955296  \n",
      "11/05/2023 02:00 DST  35937.478720  \n",
      "11/03/2024 02:00 DST  44626.241884  \n"
     ]
    }
   ],
   "source": [
    "problematic_rows = df_load[df_load.index.str.contains(\"DST\", na=False)]\n",
    "print(problematic_rows) #Rows with DST tag (not parsable by pandas datetime)\n",
    "df_load.index = df_load.index.str.replace(\" DST\", \"\", regex=False)"
   ]
  },
  {
   "cell_type": "code",
   "execution_count": 212,
   "metadata": {},
   "outputs": [
    {
     "name": "stdout",
     "output_type": "stream",
     "text": [
      "Index: nan\n",
      "Inde Type: <class 'str'>\n",
      "Rows Missing Values: 0\n",
      "COAST    float64\n",
      "EAST     float64\n",
      "FWEST    float64\n",
      "NORTH    float64\n",
      "NCENT    float64\n",
      "SOUTH    float64\n",
      "SCENT    float64\n",
      "WEST     float64\n",
      "ERCOT    float64\n",
      "dtype: object\n"
     ]
    }
   ],
   "source": [
    "df_load.index = df_load.index.map(str)\n",
    "for index, row in df_load.iterrows():\n",
    "\n",
    "    try:\n",
    "        date, time = index.split(\" \", 1) #Check nans or other non-parseables\n",
    "    except:\n",
    "        print(f\"Index: {index}\")\n",
    "        print(f\"Inde Type: {type(index)}\")\n",
    "        df_load = df_load.drop(index)\n",
    "        continue\n",
    "\n",
    "    if time == '24:00': #Some stupid ahh reason 24:00 instead of 00:00\n",
    "        date = pd.to_datetime(date)\n",
    "        new_date = date + timedelta(days=1)  #Converts DD 24:00 to DD+1 00:00\n",
    "\n",
    "        df_load.loc[new_date] = df_load.loc[index] #Copy pasta\n",
    "        df_load = df_load.drop(index) #Deletes old unusable index\n",
    "    \n",
    "df_load.index = pd.to_datetime(df_load.index.astype(str), format='mixed', errors='coerce') #allows mix HH:MM and HH:MM:SS\n",
    "\n",
    "\n",
    "num_na = pd.isna(df_load.index).sum()\n",
    "print(f\"Rows Missing Values: {num_na}\")\n",
    "print(df_load.dtypes)\n"
   ]
  },
  {
   "cell_type": "code",
   "execution_count": 213,
   "metadata": {},
   "outputs": [
    {
     "name": "stdout",
     "output_type": "stream",
     "text": [
      "Rows Missing Values: 0\n",
      "Date                            datetime64[ns]\n",
      "ERCOT.LOAD                             float64\n",
      "ERCOT.PVGR.GEN                         float64\n",
      "Total Solar Installed, MW                int64\n",
      "Solar Output, % of Load                float64\n",
      "Solar Output, % of Installed           float64\n",
      "Solar 1-hr MW change                   float64\n",
      "Solar 1-hr % change                    float64\n",
      "Daytime Hour                            object\n",
      "Ramping Daytime Hour                    object\n",
      "dtype: object\n"
     ]
    }
   ],
   "source": [
    "df_solar.index = pd.to_datetime(df_solar.index)\n",
    "num_na = pd.isna(df_solar.index).sum()\n",
    "print(f\"Rows Missing Values: {num_na}\")\n",
    "print(df_solar.dtypes)"
   ]
  },
  {
   "cell_type": "code",
   "execution_count": 214,
   "metadata": {},
   "outputs": [
    {
     "name": "stdout",
     "output_type": "stream",
     "text": [
      "Rows Missing Values: 0\n",
      "Date                           datetime64[ns]\n",
      "ERCOT.LOAD                            float64\n",
      "ERCOT.WIND.GEN                        float64\n",
      "Total Wind Installed, MW                int64\n",
      "Wind Output, % of Load                float64\n",
      "Wind Output, % of Installed           float64\n",
      "Wind 1-hr MW change                   float64\n",
      "Wind 1-hr % change                    float64\n",
      "dtype: object\n"
     ]
    }
   ],
   "source": [
    "df_wind.index = pd.to_datetime(df_wind.index)\n",
    "num_na = pd.isna(df_wind.index).sum()\n",
    "print(f\"Rows Missing Values: {num_na}\")\n",
    "print(df_wind.dtypes)"
   ]
  }
 ],
 "metadata": {
  "kernelspec": {
   "display_name": "Python 3",
   "language": "python",
   "name": "python3"
  },
  "language_info": {
   "codemirror_mode": {
    "name": "ipython",
    "version": 3
   },
   "file_extension": ".py",
   "mimetype": "text/x-python",
   "name": "python",
   "nbconvert_exporter": "python",
   "pygments_lexer": "ipython3",
   "version": "3.13.1"
  }
 },
 "nbformat": 4,
 "nbformat_minor": 2
}
